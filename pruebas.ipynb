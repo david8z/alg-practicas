{
 "metadata": {
  "language_info": {
   "codemirror_mode": {
    "name": "ipython",
    "version": 3
   },
   "file_extension": ".py",
   "mimetype": "text/x-python",
   "name": "python",
   "nbconvert_exporter": "python",
   "pygments_lexer": "ipython3",
   "version": "3.8.2-final"
  },
  "orig_nbformat": 2,
  "kernelspec": {
   "name": "Python 3.8.2 64-bit",
   "display_name": "Python 3.8.2 64-bit",
   "metadata": {
    "interpreter": {
     "hash": "31f2aee4e71d21fbe5cf8b01ff0e069b9275f58929596ceb00d14d90e3e16cd6"
    }
   }
  }
 },
 "nbformat": 4,
 "nbformat_minor": 2,
 "cells": [
  {
   "cell_type": "code",
   "execution_count": 1,
   "metadata": {},
   "outputs": [],
   "source": [
    "def distance(str1, str2):\n",
    "  d=dict()\n",
    "  for i in range(len(str1)+1):\n",
    "     d[i]=dict()\n",
    "     d[i][0]=i\n",
    "  for i in range(len(str2)+1):\n",
    "     d[0][i] = i\n",
    "  for i in range(1, len(str1)+1):\n",
    "     for j in range(1, len(str2)+1):\n",
    "        d[i][j] = min(d[i][j-1]+1, d[i-1][j]+1, d[i-1][j-1]+(not str1[i-1] == str2[j-1]))\n",
    "  print(d)\n",
    "  return d[len(str1)][len(str2)]"
   ]
  },
  {
   "cell_type": "code",
   "execution_count": 2,
   "metadata": {},
   "outputs": [
    {
     "output_type": "stream",
     "name": "stdout",
     "text": [
      "{0: {0: 0, 1: 1, 2: 2, 3: 3, 4: 4}, 1: {0: 1, 1: 1, 2: 2, 3: 3, 4: 4}, 2: {0: 2, 1: 2, 2: 2, 3: 3, 4: 4}, 3: {0: 3, 1: 3, 2: 3, 3: 3, 4: 4}, 4: {0: 4, 1: 4, 2: 3, 3: 3, 4: 4}}\n"
     ]
    },
    {
     "output_type": "execute_result",
     "data": {
      "text/plain": [
       "4"
      ]
     },
     "metadata": {},
     "execution_count": 2
    }
   ],
   "source": [
    "distance('hola', 'saas')"
   ]
  },
  {
   "cell_type": "code",
   "execution_count": 2,
   "metadata": {},
   "outputs": [],
   "source": [
    "import numpy as np \n",
    "\n",
    "from tarea1.edit_distances import matriz\n",
    "from tarea1.edit_distances import dp_levenshtein_backwards, dp_intermediate_damerau_backwards, dp_restricted_damerau_backwards"
   ]
  },
  {
   "cell_type": "code",
   "execution_count": 4,
   "metadata": {},
   "outputs": [
    {
     "output_type": "stream",
     "name": "stdout",
     "text": [
      "campos ejemplo 5.0\n[[1 1 1 1 1 1 1]\n [1 1 1 1 1 1 1]\n [1 1 1 0 1 1 1]\n [1 1 1 1 0 1 1]\n [1 1 1 1 1 1 0]\n [1 1 1 1 1 1 1]]\nreconocibles irreconocible 3.0\n[[1 0 0 1 1 1 1 1 1 1 1 1 1]\n [1 1 1 0 1 1 1 1 1 1 1 1 0]\n [1 1 1 1 0 1 1 1 0 1 1 1 1]\n [1 1 1 1 1 0 1 0 1 1 1 1 1]\n [1 1 1 1 1 1 0 1 1 1 1 1 1]\n [1 1 1 1 1 0 1 0 1 1 1 1 1]\n [1 1 1 1 0 1 1 1 0 1 1 1 1]\n [0 1 1 1 1 1 1 1 1 0 1 1 1]\n [1 1 1 1 1 1 1 1 1 1 0 1 1]\n [1 1 1 1 1 1 1 1 1 1 1 0 1]\n [1 1 1 0 1 1 1 1 1 1 1 1 0]\n [1 1 1 1 1 1 1 1 1 1 1 1 1]]\nhola holas 1.0\n[[0 1 1 1 1]\n [1 0 1 1 1]\n [1 1 0 1 1]\n [1 1 1 0 1]]\n"
     ]
    }
   ],
   "source": [
    "for term,ref in [(\"campos\",\"ejemplo\"), (\"reconocibles\",\"irreconocible\"), (\"hola\", \"holas\")]:\n",
    "    print(term,ref,dp_intermediate_damerau_backwards(term,ref))\n",
    "    print(matriz(term,ref))"
   ]
  },
  {
   "cell_type": "code",
   "execution_count": 68,
   "metadata": {},
   "outputs": [],
   "source": []
  }
 ]
}