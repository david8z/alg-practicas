{
 "metadata": {
  "language_info": {
   "codemirror_mode": {
    "name": "ipython",
    "version": 3
   },
   "file_extension": ".py",
   "mimetype": "text/x-python",
   "name": "python",
   "nbconvert_exporter": "python",
   "pygments_lexer": "ipython3",
   "version": "3.8.5-final"
  },
  "orig_nbformat": 2,
  "kernelspec": {
   "name": "python3",
   "display_name": "Python 3.8.5 64-bit ('env')",
   "metadata": {
    "interpreter": {
     "hash": "21ab5317b5bf0c1634ef87505daadadd42299509c821f9ad32bbc3838098e721"
    }
   }
  }
 },
 "nbformat": 4,
 "nbformat_minor": 2,
 "cells": [
  {
   "cell_type": "code",
   "execution_count": 28,
   "metadata": {},
   "outputs": [],
   "source": [
    "import numpy as np\n",
    "\n",
    "def matriz(term, ref):\n",
    "    \"\"\"\n",
    "    Metodo de las transparencias\n",
    "    \"\"\"\n",
    "    vref = np.array(list(ref))\n",
    "    return np.vstack([vref != letter for letter in term]) + 0\n",
    "\n",
    "def dp_levenshtein_backwards_threshold(term, ref, threshold):\n",
    "    \"\"\"\n",
    "    Calcula la distancia de Levenshtein entre las cadenas term y ref\n",
    "    con un umbral maximo threshold\n",
    "    \"\"\"\n",
    "    mat = matriz(term, ref)\n",
    "    res = np.empty((len(term)+1,len(ref)+1))\n",
    "    res[:] = np.NaN\n",
    "\n",
    "    # Lista de elementos que nos dice True si hay que seguir calculando los valores de una columna o False si ya sabemos\n",
    "    # que superarán el threshold.\n",
    "    j_valido = [True] * (len(ref)+1)\n",
    "    \n",
    "    for i in range(0,len(term)+1):\n",
    "        for j in range(0,len(ref)+1):\n",
    "\n",
    "            # Hace la comprobación de si el valor de la columna se debe calcular o se sabe ya que va a superar el threshold\n",
    "            if not j_valido[j]:\n",
    "                continue\n",
    "\n",
    "            if i==0 or j==0:\n",
    "                aux_res = res[i,j] if not np.isnan(res[i,j]) else 0 \n",
    "                res[i,j] = aux_res + i + j if aux_res + i + j < threshold else None\n",
    "\n",
    "            else:\n",
    "                aux_list = [\n",
    "                    mat[i-1,j-1] + res[i-1,j-1] if mat[i-1,j-1] + res[i-1,j-1] < threshold else None,\n",
    "                    1 + res[i-1,j] if 1 + res[i-1,j] < threshold else None,\n",
    "                    1 + res[i,j-1] if 1 + res[i,j-1] < threshold else None]\n",
    "                \n",
    "                # Encuentra el mínimo en una lista con valores que son None\n",
    "                res[i,j] = min(filter(lambda x: x is not None, aux_list)) if any(aux_list) else None\n",
    "            \n",
    "            # Si el elemnto es nan y los anteriores elementos de la fila son aceptados hacemos un break para \n",
    "            # no realizar iteraciones extra que sabemos que excederan el threshold slatando a la siguiente fila.\n",
    "            if np.isnan(res[i, j]) and np.any(~np.isnan(res)[i]):\n",
    "                break\n",
    "\n",
    "            # Si el elemnto es nan y los anteriores elementos de la columna son aceptado modificamos el valor en j_valido\n",
    "            # para así saber que cuando se llegue a una columna con valor j no hay que calcularlo ya que superar el threshold\n",
    "            if np.isnan(res[i, j]) and np.any(~np.isnan(res)[:,j]):\n",
    "                j_valido[j] = False\n",
    "            \n",
    "            # Prints para debugging\n",
    "            print(\"i:\", i,\"j:\", j, \"||\", \"valor:\", res[i,j])\n",
    "            print(res)\n",
    "    return res[len(term),len(ref)]\n",
    "\n",
    "\n",
    "def dp_restricted_damerau_backwards_threshold(term, ref, threshold):\n",
    "    \"\"\"\n",
    "    Calcula la distancia de Damerau Levenshtein Restringida entre las cadenas x y y\n",
    "    \"\"\"\n",
    "    # Simula el infinito\n",
    "    INF = len(term) + len(ref)\n",
    "\n",
    "    mat = matriz(term, ref)\n",
    "    res = np.empty((len(term)+1,len(ref)+1))\n",
    "    res[:] = np.NaN\n",
    "    # res = np.zeros(shape=(len(term)+1,len(ref)+1))\n",
    "\n",
    "    # Lista de elementos que nos dice True si hay que seguir calculando los valores de una columna o False si ya sabemos\n",
    "    # que superarán el threshold.\n",
    "    j_valido = [True] * (len(ref)+1)\n",
    "\n",
    "    for i in range(0,len(term)+1):\n",
    "        for j in range(0,len(ref)+1):\n",
    "\n",
    "            # Hace la comprobación de si el valor de la columna se debe calcular o se sabe ya que va a superar el threshold\n",
    "            if not j_valido[j]:\n",
    "                continue\n",
    "\n",
    "            if i==0 or j==0:\n",
    "                aux_res = res[i,j] if not np.isnan(res[i,j]) else 0 \n",
    "                res[i,j] = aux_res + i + j if aux_res + i + j < threshold else None\n",
    "            elif i == 1 or j == 1:\n",
    "                aux_list = [\n",
    "                    mat[i-1,j-1] + res[i-1,j-1] if mat[i-1,j-1] + res[i-1,j-1] < threshold else None,\n",
    "                    1 + res[i-1,j] if 1 + res[i-1,j] < threshold else None,\n",
    "                    1 + res[i,j-1] if 1 + res[i,j-1] < threshold else None]\n",
    "                \n",
    "                # Encuentra el mínimo en una lista con valores que son None\n",
    "                res[i,j] = min(filter(lambda x: x is not None, aux_list)) if any(aux_list) else None\n",
    "            else:\n",
    "                aux_list = [\n",
    "                    mat[i-1,j-1] + res[i-1,j-1] if mat[i-1,j-1] + res[i-1,j-1] < threshold else None,\n",
    "                    1 + res[i-1,j] if 1 + res[i-1,j]  < threshold else None,\n",
    "                    1 + res[i,j-1] if 1 + res[i,j-1]  < threshold else None,\n",
    "                    1 + res[i-2,j-2] + (mat[i-2,j-1] + mat[i-1,j-2]) * INF if 1 + res[i-2,j-2] + (mat[i-2,j-1] + mat[i-1,j-2]) * INF < threshold else None]\n",
    "                \n",
    "                # Encuentra el mínimo en una lista con valores que son None\n",
    "                res[i,j] = min(filter(lambda x: x is not None, aux_list)) if any(aux_list) else None\n",
    "            print(\"i:\", i,\"j:\", j, \"||\", \"valor:\", res[i,j])\n",
    "            print(res)\n",
    "    return res[len(term),len(ref)]"
   ]
  },
  {
   "cell_type": "code",
   "execution_count": 34,
   "metadata": {
    "tags": [
     "outputPrepend"
    ]
   },
   "outputs": [
    {
     "output_type": "stream",
     "name": "stdout",
     "text": [
      " nan]\n [nan nan nan nan nan nan nan nan nan nan nan]\n [nan nan nan nan nan nan nan nan nan nan nan]\n [nan nan nan nan nan nan nan nan nan nan nan]]\ni: 1 j: 10 || valor: nan\n[[ 0.  1.  2.  3.  4.  5. nan nan nan nan nan]\n [ 1.  0.  1.  2.  3.  4.  5. nan nan nan nan]\n [nan nan nan nan nan nan nan nan nan nan nan]\n [nan nan nan nan nan nan nan nan nan nan nan]\n [nan nan nan nan nan nan nan nan nan nan nan]\n [nan nan nan nan nan nan nan nan nan nan nan]\n [nan nan nan nan nan nan nan nan nan nan nan]]\ni: 2 j: 0 || valor: 2.0\n[[ 0.  1.  2.  3.  4.  5. nan nan nan nan nan]\n [ 1.  0.  1.  2.  3.  4.  5. nan nan nan nan]\n [ 2. nan nan nan nan nan nan nan nan nan nan]\n [nan nan nan nan nan nan nan nan nan nan nan]\n [nan nan nan nan nan nan nan nan nan nan nan]\n [nan nan nan nan nan nan nan nan nan nan nan]\n [nan nan nan nan nan nan nan nan nan nan nan]]\ni: 2 j: 1 || valor: 1.0\n[[ 0.  1.  2.  3.  4.  5. nan nan nan nan nan]\n [ 1.  0.  1.  2.  3.  4.  5. nan nan nan nan]\n [ 2.  1. nan nan nan nan nan nan nan nan nan]\n [nan nan nan nan nan nan nan nan nan nan nan]\n [nan nan nan nan nan nan nan nan nan nan nan]\n [nan nan nan nan nan nan nan nan nan nan nan]\n [nan nan nan nan nan nan nan nan nan nan nan]]\ni: 2 j: 2 || valor: 1.0\n[[ 0.  1.  2.  3.  4.  5. nan nan nan nan nan]\n [ 1.  0.  1.  2.  3.  4.  5. nan nan nan nan]\n [ 2.  1.  1. nan nan nan nan nan nan nan nan]\n [nan nan nan nan nan nan nan nan nan nan nan]\n [nan nan nan nan nan nan nan nan nan nan nan]\n [nan nan nan nan nan nan nan nan nan nan nan]\n [nan nan nan nan nan nan nan nan nan nan nan]]\ni: 2 j: 3 || valor: 1.0\n[[ 0.  1.  2.  3.  4.  5. nan nan nan nan nan]\n [ 1.  0.  1.  2.  3.  4.  5. nan nan nan nan]\n [ 2.  1.  1.  1. nan nan nan nan nan nan nan]\n [nan nan nan nan nan nan nan nan nan nan nan]\n [nan nan nan nan nan nan nan nan nan nan nan]\n [nan nan nan nan nan nan nan nan nan nan nan]\n [nan nan nan nan nan nan nan nan nan nan nan]]\ni: 2 j: 4 || valor: 2.0\n[[ 0.  1.  2.  3.  4.  5. nan nan nan nan nan]\n [ 1.  0.  1.  2.  3.  4.  5. nan nan nan nan]\n [ 2.  1.  1.  1.  2. nan nan nan nan nan nan]\n [nan nan nan nan nan nan nan nan nan nan nan]\n [nan nan nan nan nan nan nan nan nan nan nan]\n [nan nan nan nan nan nan nan nan nan nan nan]\n [nan nan nan nan nan nan nan nan nan nan nan]]\ni: 2 j: 5 || valor: 3.0\n[[ 0.  1.  2.  3.  4.  5. nan nan nan nan nan]\n [ 1.  0.  1.  2.  3.  4.  5. nan nan nan nan]\n [ 2.  1.  1.  1.  2.  3. nan nan nan nan nan]\n [nan nan nan nan nan nan nan nan nan nan nan]\n [nan nan nan nan nan nan nan nan nan nan nan]\n [nan nan nan nan nan nan nan nan nan nan nan]\n [nan nan nan nan nan nan nan nan nan nan nan]]\ni: 2 j: 6 || valor: 4.0\n[[ 0.  1.  2.  3.  4.  5. nan nan nan nan nan]\n [ 1.  0.  1.  2.  3.  4.  5. nan nan nan nan]\n [ 2.  1.  1.  1.  2.  3.  4. nan nan nan nan]\n [nan nan nan nan nan nan nan nan nan nan nan]\n [nan nan nan nan nan nan nan nan nan nan nan]\n [nan nan nan nan nan nan nan nan nan nan nan]\n [nan nan nan nan nan nan nan nan nan nan nan]]\ni: 2 j: 7 || valor: 5.0\n[[ 0.  1.  2.  3.  4.  5. nan nan nan nan nan]\n [ 1.  0.  1.  2.  3.  4.  5. nan nan nan nan]\n [ 2.  1.  1.  1.  2.  3.  4.  5. nan nan nan]\n [nan nan nan nan nan nan nan nan nan nan nan]\n [nan nan nan nan nan nan nan nan nan nan nan]\n [nan nan nan nan nan nan nan nan nan nan nan]\n [nan nan nan nan nan nan nan nan nan nan nan]]\ni: 2 j: 8 || valor: nan\n[[ 0.  1.  2.  3.  4.  5. nan nan nan nan nan]\n [ 1.  0.  1.  2.  3.  4.  5. nan nan nan nan]\n [ 2.  1.  1.  1.  2.  3.  4.  5. nan nan nan]\n [nan nan nan nan nan nan nan nan nan nan nan]\n [nan nan nan nan nan nan nan nan nan nan nan]\n [nan nan nan nan nan nan nan nan nan nan nan]\n [nan nan nan nan nan nan nan nan nan nan nan]]\ni: 2 j: 9 || valor: nan\n[[ 0.  1.  2.  3.  4.  5. nan nan nan nan nan]\n [ 1.  0.  1.  2.  3.  4.  5. nan nan nan nan]\n [ 2.  1.  1.  1.  2.  3.  4.  5. nan nan nan]\n [nan nan nan nan nan nan nan nan nan nan nan]\n [nan nan nan nan nan nan nan nan nan nan nan]\n [nan nan nan nan nan nan nan nan nan nan nan]\n [nan nan nan nan nan nan nan nan nan nan nan]]\ni: 2 j: 10 || valor: nan\n[[ 0.  1.  2.  3.  4.  5. nan nan nan nan nan]\n [ 1.  0.  1.  2.  3.  4.  5. nan nan nan nan]\n [ 2.  1.  1.  1.  2.  3.  4.  5. nan nan nan]\n [nan nan nan nan nan nan nan nan nan nan nan]\n [nan nan nan nan nan nan nan nan nan nan nan]\n [nan nan nan nan nan nan nan nan nan nan nan]\n [nan nan nan nan nan nan nan nan nan nan nan]]\ni: 3 j: 0 || valor: 3.0\n[[ 0.  1.  2.  3.  4.  5. nan nan nan nan nan]\n [ 1.  0.  1.  2.  3.  4.  5. nan nan nan nan]\n [ 2.  1.  1.  1.  2.  3.  4.  5. nan nan nan]\n [ 3. nan nan nan nan nan nan nan nan nan nan]\n [nan nan nan nan nan nan nan nan nan nan nan]\n [nan nan nan nan nan nan nan nan nan nan nan]\n [nan nan nan nan nan nan nan nan nan nan nan]]\ni: 3 j: 1 || valor: 2.0\n[[ 0.  1.  2.  3.  4.  5. nan nan nan nan nan]\n [ 1.  0.  1.  2.  3.  4.  5. nan nan nan nan]\n [ 2.  1.  1.  1.  2.  3.  4.  5. nan nan nan]\n [ 3.  2. nan nan nan nan nan nan nan nan nan]\n [nan nan nan nan nan nan nan nan nan nan nan]\n [nan nan nan nan nan nan nan nan nan nan nan]\n [nan nan nan nan nan nan nan nan nan nan nan]]\ni: 3 j: 2 || valor: 1.0\n[[ 0.  1.  2.  3.  4.  5. nan nan nan nan nan]\n [ 1.  0.  1.  2.  3.  4.  5. nan nan nan nan]\n [ 2.  1.  1.  1.  2.  3.  4.  5. nan nan nan]\n [ 3.  2.  1. nan nan nan nan nan nan nan nan]\n [nan nan nan nan nan nan nan nan nan nan nan]\n [nan nan nan nan nan nan nan nan nan nan nan]\n [nan nan nan nan nan nan nan nan nan nan nan]]\ni: 3 j: 3 || valor: 1.0\n[[ 0.  1.  2.  3.  4.  5. nan nan nan nan nan]\n [ 1.  0.  1.  2.  3.  4.  5. nan nan nan nan]\n [ 2.  1.  1.  1.  2.  3.  4.  5. nan nan nan]\n [ 3.  2.  1.  1. nan nan nan nan nan nan nan]\n [nan nan nan nan nan nan nan nan nan nan nan]\n [nan nan nan nan nan nan nan nan nan nan nan]\n [nan nan nan nan nan nan nan nan nan nan nan]]\ni: 3 j: 4 || valor: 2.0\n[[ 0.  1.  2.  3.  4.  5. nan nan nan nan nan]\n [ 1.  0.  1.  2.  3.  4.  5. nan nan nan nan]\n [ 2.  1.  1.  1.  2.  3.  4.  5. nan nan nan]\n [ 3.  2.  1.  1.  2. nan nan nan nan nan nan]\n [nan nan nan nan nan nan nan nan nan nan nan]\n [nan nan nan nan nan nan nan nan nan nan nan]\n [nan nan nan nan nan nan nan nan nan nan nan]]\ni: 3 j: 5 || valor: 2.0\n[[ 0.  1.  2.  3.  4.  5. nan nan nan nan nan]\n [ 1.  0.  1.  2.  3.  4.  5. nan nan nan nan]\n [ 2.  1.  1.  1.  2.  3.  4.  5. nan nan nan]\n [ 3.  2.  1.  1.  2.  2. nan nan nan nan nan]\n [nan nan nan nan nan nan nan nan nan nan nan]\n [nan nan nan nan nan nan nan nan nan nan nan]\n [nan nan nan nan nan nan nan nan nan nan nan]]\ni: 3 j: 6 || valor: 3.0\n[[ 0.  1.  2.  3.  4.  5. nan nan nan nan nan]\n [ 1.  0.  1.  2.  3.  4.  5. nan nan nan nan]\n [ 2.  1.  1.  1.  2.  3.  4.  5. nan nan nan]\n [ 3.  2.  1.  1.  2.  2.  3. nan nan nan nan]\n [nan nan nan nan nan nan nan nan nan nan nan]\n [nan nan nan nan nan nan nan nan nan nan nan]\n [nan nan nan nan nan nan nan nan nan nan nan]]\ni: 3 j: 7 || valor: 4.0\n[[ 0.  1.  2.  3.  4.  5. nan nan nan nan nan]\n [ 1.  0.  1.  2.  3.  4.  5. nan nan nan nan]\n [ 2.  1.  1.  1.  2.  3.  4.  5. nan nan nan]\n [ 3.  2.  1.  1.  2.  2.  3.  4. nan nan nan]\n [nan nan nan nan nan nan nan nan nan nan nan]\n [nan nan nan nan nan nan nan nan nan nan nan]\n [nan nan nan nan nan nan nan nan nan nan nan]]\ni: 3 j: 8 || valor: 5.0\n[[ 0.  1.  2.  3.  4.  5. nan nan nan nan nan]\n [ 1.  0.  1.  2.  3.  4.  5. nan nan nan nan]\n [ 2.  1.  1.  1.  2.  3.  4.  5. nan nan nan]\n [ 3.  2.  1.  1.  2.  2.  3.  4.  5. nan nan]\n [nan nan nan nan nan nan nan nan nan nan nan]\n [nan nan nan nan nan nan nan nan nan nan nan]\n [nan nan nan nan nan nan nan nan nan nan nan]]\ni: 3 j: 9 || valor: nan\n[[ 0.  1.  2.  3.  4.  5. nan nan nan nan nan]\n [ 1.  0.  1.  2.  3.  4.  5. nan nan nan nan]\n [ 2.  1.  1.  1.  2.  3.  4.  5. nan nan nan]\n [ 3.  2.  1.  1.  2.  2.  3.  4.  5. nan nan]\n [nan nan nan nan nan nan nan nan nan nan nan]\n [nan nan nan nan nan nan nan nan nan nan nan]\n [nan nan nan nan nan nan nan nan nan nan nan]]\ni: 3 j: 10 || valor: nan\n[[ 0.  1.  2.  3.  4.  5. nan nan nan nan nan]\n [ 1.  0.  1.  2.  3.  4.  5. nan nan nan nan]\n [ 2.  1.  1.  1.  2.  3.  4.  5. nan nan nan]\n [ 3.  2.  1.  1.  2.  2.  3.  4.  5. nan nan]\n [nan nan nan nan nan nan nan nan nan nan nan]\n [nan nan nan nan nan nan nan nan nan nan nan]\n [nan nan nan nan nan nan nan nan nan nan nan]]\ni: 4 j: 0 || valor: 4.0\n[[ 0.  1.  2.  3.  4.  5. nan nan nan nan nan]\n [ 1.  0.  1.  2.  3.  4.  5. nan nan nan nan]\n [ 2.  1.  1.  1.  2.  3.  4.  5. nan nan nan]\n [ 3.  2.  1.  1.  2.  2.  3.  4.  5. nan nan]\n [ 4. nan nan nan nan nan nan nan nan nan nan]\n [nan nan nan nan nan nan nan nan nan nan nan]\n [nan nan nan nan nan nan nan nan nan nan nan]]\ni: 4 j: 1 || valor: 3.0\n[[ 0.  1.  2.  3.  4.  5. nan nan nan nan nan]\n [ 1.  0.  1.  2.  3.  4.  5. nan nan nan nan]\n [ 2.  1.  1.  1.  2.  3.  4.  5. nan nan nan]\n [ 3.  2.  1.  1.  2.  2.  3.  4.  5. nan nan]\n [ 4.  3. nan nan nan nan nan nan nan nan nan]\n [nan nan nan nan nan nan nan nan nan nan nan]\n [nan nan nan nan nan nan nan nan nan nan nan]]\ni: 4 j: 2 || valor: 2.0\n[[ 0.  1.  2.  3.  4.  5. nan nan nan nan nan]\n [ 1.  0.  1.  2.  3.  4.  5. nan nan nan nan]\n [ 2.  1.  1.  1.  2.  3.  4.  5. nan nan nan]\n [ 3.  2.  1.  1.  2.  2.  3.  4.  5. nan nan]\n [ 4.  3.  2. nan nan nan nan nan nan nan nan]\n [nan nan nan nan nan nan nan nan nan nan nan]\n [nan nan nan nan nan nan nan nan nan nan nan]]\ni: 4 j: 3 || valor: 2.0\n[[ 0.  1.  2.  3.  4.  5. nan nan nan nan nan]\n [ 1.  0.  1.  2.  3.  4.  5. nan nan nan nan]\n [ 2.  1.  1.  1.  2.  3.  4.  5. nan nan nan]\n [ 3.  2.  1.  1.  2.  2.  3.  4.  5. nan nan]\n [ 4.  3.  2.  2. nan nan nan nan nan nan nan]\n [nan nan nan nan nan nan nan nan nan nan nan]\n [nan nan nan nan nan nan nan nan nan nan nan]]\ni: 4 j: 4 || valor: 1.0\n[[ 0.  1.  2.  3.  4.  5. nan nan nan nan nan]\n [ 1.  0.  1.  2.  3.  4.  5. nan nan nan nan]\n [ 2.  1.  1.  1.  2.  3.  4.  5. nan nan nan]\n [ 3.  2.  1.  1.  2.  2.  3.  4.  5. nan nan]\n [ 4.  3.  2.  2.  1. nan nan nan nan nan nan]\n [nan nan nan nan nan nan nan nan nan nan nan]\n [nan nan nan nan nan nan nan nan nan nan nan]]\ni: 4 j: 5 || valor: 2.0\n[[ 0.  1.  2.  3.  4.  5. nan nan nan nan nan]\n [ 1.  0.  1.  2.  3.  4.  5. nan nan nan nan]\n [ 2.  1.  1.  1.  2.  3.  4.  5. nan nan nan]\n [ 3.  2.  1.  1.  2.  2.  3.  4.  5. nan nan]\n [ 4.  3.  2.  2.  1.  2. nan nan nan nan nan]\n [nan nan nan nan nan nan nan nan nan nan nan]\n [nan nan nan nan nan nan nan nan nan nan nan]]\ni: 4 j: 6 || valor: 3.0\n[[ 0.  1.  2.  3.  4.  5. nan nan nan nan nan]\n [ 1.  0.  1.  2.  3.  4.  5. nan nan nan nan]\n [ 2.  1.  1.  1.  2.  3.  4.  5. nan nan nan]\n [ 3.  2.  1.  1.  2.  2.  3.  4.  5. nan nan]\n [ 4.  3.  2.  2.  1.  2.  3. nan nan nan nan]\n [nan nan nan nan nan nan nan nan nan nan nan]\n [nan nan nan nan nan nan nan nan nan nan nan]]\ni: 4 j: 7 || valor: 4.0\n[[ 0.  1.  2.  3.  4.  5. nan nan nan nan nan]\n [ 1.  0.  1.  2.  3.  4.  5. nan nan nan nan]\n [ 2.  1.  1.  1.  2.  3.  4.  5. nan nan nan]\n [ 3.  2.  1.  1.  2.  2.  3.  4.  5. nan nan]\n [ 4.  3.  2.  2.  1.  2.  3.  4. nan nan nan]\n [nan nan nan nan nan nan nan nan nan nan nan]\n [nan nan nan nan nan nan nan nan nan nan nan]]\ni: 4 j: 8 || valor: 5.0\n[[ 0.  1.  2.  3.  4.  5. nan nan nan nan nan]\n [ 1.  0.  1.  2.  3.  4.  5. nan nan nan nan]\n [ 2.  1.  1.  1.  2.  3.  4.  5. nan nan nan]\n [ 3.  2.  1.  1.  2.  2.  3.  4.  5. nan nan]\n [ 4.  3.  2.  2.  1.  2.  3.  4.  5. nan nan]\n [nan nan nan nan nan nan nan nan nan nan nan]\n [nan nan nan nan nan nan nan nan nan nan nan]]\ni: 4 j: 9 || valor: nan\n[[ 0.  1.  2.  3.  4.  5. nan nan nan nan nan]\n [ 1.  0.  1.  2.  3.  4.  5. nan nan nan nan]\n [ 2.  1.  1.  1.  2.  3.  4.  5. nan nan nan]\n [ 3.  2.  1.  1.  2.  2.  3.  4.  5. nan nan]\n [ 4.  3.  2.  2.  1.  2.  3.  4.  5. nan nan]\n [nan nan nan nan nan nan nan nan nan nan nan]\n [nan nan nan nan nan nan nan nan nan nan nan]]\ni: 4 j: 10 || valor: nan\n[[ 0.  1.  2.  3.  4.  5. nan nan nan nan nan]\n [ 1.  0.  1.  2.  3.  4.  5. nan nan nan nan]\n [ 2.  1.  1.  1.  2.  3.  4.  5. nan nan nan]\n [ 3.  2.  1.  1.  2.  2.  3.  4.  5. nan nan]\n [ 4.  3.  2.  2.  1.  2.  3.  4.  5. nan nan]\n [nan nan nan nan nan nan nan nan nan nan nan]\n [nan nan nan nan nan nan nan nan nan nan nan]]\ni: 5 j: 0 || valor: 5.0\n[[ 0.  1.  2.  3.  4.  5. nan nan nan nan nan]\n [ 1.  0.  1.  2.  3.  4.  5. nan nan nan nan]\n [ 2.  1.  1.  1.  2.  3.  4.  5. nan nan nan]\n [ 3.  2.  1.  1.  2.  2.  3.  4.  5. nan nan]\n [ 4.  3.  2.  2.  1.  2.  3.  4.  5. nan nan]\n [ 5. nan nan nan nan nan nan nan nan nan nan]\n [nan nan nan nan nan nan nan nan nan nan nan]]\ni: 5 j: 1 || valor: 4.0\n[[ 0.  1.  2.  3.  4.  5. nan nan nan nan nan]\n [ 1.  0.  1.  2.  3.  4.  5. nan nan nan nan]\n [ 2.  1.  1.  1.  2.  3.  4.  5. nan nan nan]\n [ 3.  2.  1.  1.  2.  2.  3.  4.  5. nan nan]\n [ 4.  3.  2.  2.  1.  2.  3.  4.  5. nan nan]\n [ 5.  4. nan nan nan nan nan nan nan nan nan]\n [nan nan nan nan nan nan nan nan nan nan nan]]\ni: 5 j: 2 || valor: 3.0\n[[ 0.  1.  2.  3.  4.  5. nan nan nan nan nan]\n [ 1.  0.  1.  2.  3.  4.  5. nan nan nan nan]\n [ 2.  1.  1.  1.  2.  3.  4.  5. nan nan nan]\n [ 3.  2.  1.  1.  2.  2.  3.  4.  5. nan nan]\n [ 4.  3.  2.  2.  1.  2.  3.  4.  5. nan nan]\n [ 5.  4.  3. nan nan nan nan nan nan nan nan]\n [nan nan nan nan nan nan nan nan nan nan nan]]\ni: 5 j: 3 || valor: 3.0\n[[ 0.  1.  2.  3.  4.  5. nan nan nan nan nan]\n [ 1.  0.  1.  2.  3.  4.  5. nan nan nan nan]\n [ 2.  1.  1.  1.  2.  3.  4.  5. nan nan nan]\n [ 3.  2.  1.  1.  2.  2.  3.  4.  5. nan nan]\n [ 4.  3.  2.  2.  1.  2.  3.  4.  5. nan nan]\n [ 5.  4.  3.  3. nan nan nan nan nan nan nan]\n [nan nan nan nan nan nan nan nan nan nan nan]]\ni: 5 j: 4 || valor: 2.0\n[[ 0.  1.  2.  3.  4.  5. nan nan nan nan nan]\n [ 1.  0.  1.  2.  3.  4.  5. nan nan nan nan]\n [ 2.  1.  1.  1.  2.  3.  4.  5. nan nan nan]\n [ 3.  2.  1.  1.  2.  2.  3.  4.  5. nan nan]\n [ 4.  3.  2.  2.  1.  2.  3.  4.  5. nan nan]\n [ 5.  4.  3.  3.  2. nan nan nan nan nan nan]\n [nan nan nan nan nan nan nan nan nan nan nan]]\ni: 5 j: 5 || valor: 1.0\n[[ 0.  1.  2.  3.  4.  5. nan nan nan nan nan]\n [ 1.  0.  1.  2.  3.  4.  5. nan nan nan nan]\n [ 2.  1.  1.  1.  2.  3.  4.  5. nan nan nan]\n [ 3.  2.  1.  1.  2.  2.  3.  4.  5. nan nan]\n [ 4.  3.  2.  2.  1.  2.  3.  4.  5. nan nan]\n [ 5.  4.  3.  3.  2.  1. nan nan nan nan nan]\n [nan nan nan nan nan nan nan nan nan nan nan]]\ni: 5 j: 6 || valor: 2.0\n[[ 0.  1.  2.  3.  4.  5. nan nan nan nan nan]\n [ 1.  0.  1.  2.  3.  4.  5. nan nan nan nan]\n [ 2.  1.  1.  1.  2.  3.  4.  5. nan nan nan]\n [ 3.  2.  1.  1.  2.  2.  3.  4.  5. nan nan]\n [ 4.  3.  2.  2.  1.  2.  3.  4.  5. nan nan]\n [ 5.  4.  3.  3.  2.  1.  2. nan nan nan nan]\n [nan nan nan nan nan nan nan nan nan nan nan]]\ni: 5 j: 7 || valor: 3.0\n[[ 0.  1.  2.  3.  4.  5. nan nan nan nan nan]\n [ 1.  0.  1.  2.  3.  4.  5. nan nan nan nan]\n [ 2.  1.  1.  1.  2.  3.  4.  5. nan nan nan]\n [ 3.  2.  1.  1.  2.  2.  3.  4.  5. nan nan]\n [ 4.  3.  2.  2.  1.  2.  3.  4.  5. nan nan]\n [ 5.  4.  3.  3.  2.  1.  2.  3. nan nan nan]\n [nan nan nan nan nan nan nan nan nan nan nan]]\ni: 5 j: 8 || valor: 4.0\n[[ 0.  1.  2.  3.  4.  5. nan nan nan nan nan]\n [ 1.  0.  1.  2.  3.  4.  5. nan nan nan nan]\n [ 2.  1.  1.  1.  2.  3.  4.  5. nan nan nan]\n [ 3.  2.  1.  1.  2.  2.  3.  4.  5. nan nan]\n [ 4.  3.  2.  2.  1.  2.  3.  4.  5. nan nan]\n [ 5.  4.  3.  3.  2.  1.  2.  3.  4. nan nan]\n [nan nan nan nan nan nan nan nan nan nan nan]]\ni: 5 j: 9 || valor: 5.0\n[[ 0.  1.  2.  3.  4.  5. nan nan nan nan nan]\n [ 1.  0.  1.  2.  3.  4.  5. nan nan nan nan]\n [ 2.  1.  1.  1.  2.  3.  4.  5. nan nan nan]\n [ 3.  2.  1.  1.  2.  2.  3.  4.  5. nan nan]\n [ 4.  3.  2.  2.  1.  2.  3.  4.  5. nan nan]\n [ 5.  4.  3.  3.  2.  1.  2.  3.  4.  5. nan]\n [nan nan nan nan nan nan nan nan nan nan nan]]\ni: 5 j: 10 || valor: nan\n[[ 0.  1.  2.  3.  4.  5. nan nan nan nan nan]\n [ 1.  0.  1.  2.  3.  4.  5. nan nan nan nan]\n [ 2.  1.  1.  1.  2.  3.  4.  5. nan nan nan]\n [ 3.  2.  1.  1.  2.  2.  3.  4.  5. nan nan]\n [ 4.  3.  2.  2.  1.  2.  3.  4.  5. nan nan]\n [ 5.  4.  3.  3.  2.  1.  2.  3.  4.  5. nan]\n [nan nan nan nan nan nan nan nan nan nan nan]]\ni: 6 j: 0 || valor: nan\n[[ 0.  1.  2.  3.  4.  5. nan nan nan nan nan]\n [ 1.  0.  1.  2.  3.  4.  5. nan nan nan nan]\n [ 2.  1.  1.  1.  2.  3.  4.  5. nan nan nan]\n [ 3.  2.  1.  1.  2.  2.  3.  4.  5. nan nan]\n [ 4.  3.  2.  2.  1.  2.  3.  4.  5. nan nan]\n [ 5.  4.  3.  3.  2.  1.  2.  3.  4.  5. nan]\n [nan nan nan nan nan nan nan nan nan nan nan]]\ni: 6 j: 1 || valor: 5.0\n[[ 0.  1.  2.  3.  4.  5. nan nan nan nan nan]\n [ 1.  0.  1.  2.  3.  4.  5. nan nan nan nan]\n [ 2.  1.  1.  1.  2.  3.  4.  5. nan nan nan]\n [ 3.  2.  1.  1.  2.  2.  3.  4.  5. nan nan]\n [ 4.  3.  2.  2.  1.  2.  3.  4.  5. nan nan]\n [ 5.  4.  3.  3.  2.  1.  2.  3.  4.  5. nan]\n [nan  5. nan nan nan nan nan nan nan nan nan]]\ni: 6 j: 2 || valor: 4.0\n[[ 0.  1.  2.  3.  4.  5. nan nan nan nan nan]\n [ 1.  0.  1.  2.  3.  4.  5. nan nan nan nan]\n [ 2.  1.  1.  1.  2.  3.  4.  5. nan nan nan]\n [ 3.  2.  1.  1.  2.  2.  3.  4.  5. nan nan]\n [ 4.  3.  2.  2.  1.  2.  3.  4.  5. nan nan]\n [ 5.  4.  3.  3.  2.  1.  2.  3.  4.  5. nan]\n [nan  5.  4. nan nan nan nan nan nan nan nan]]\ni: 6 j: 3 || valor: 4.0\n[[ 0.  1.  2.  3.  4.  5. nan nan nan nan nan]\n [ 1.  0.  1.  2.  3.  4.  5. nan nan nan nan]\n [ 2.  1.  1.  1.  2.  3.  4.  5. nan nan nan]\n [ 3.  2.  1.  1.  2.  2.  3.  4.  5. nan nan]\n [ 4.  3.  2.  2.  1.  2.  3.  4.  5. nan nan]\n [ 5.  4.  3.  3.  2.  1.  2.  3.  4.  5. nan]\n [nan  5.  4.  4. nan nan nan nan nan nan nan]]\ni: 6 j: 4 || valor: 3.0\n[[ 0.  1.  2.  3.  4.  5. nan nan nan nan nan]\n [ 1.  0.  1.  2.  3.  4.  5. nan nan nan nan]\n [ 2.  1.  1.  1.  2.  3.  4.  5. nan nan nan]\n [ 3.  2.  1.  1.  2.  2.  3.  4.  5. nan nan]\n [ 4.  3.  2.  2.  1.  2.  3.  4.  5. nan nan]\n [ 5.  4.  3.  3.  2.  1.  2.  3.  4.  5. nan]\n [nan  5.  4.  4.  3. nan nan nan nan nan nan]]\ni: 6 j: 5 || valor: 2.0\n[[ 0.  1.  2.  3.  4.  5. nan nan nan nan nan]\n [ 1.  0.  1.  2.  3.  4.  5. nan nan nan nan]\n [ 2.  1.  1.  1.  2.  3.  4.  5. nan nan nan]\n [ 3.  2.  1.  1.  2.  2.  3.  4.  5. nan nan]\n [ 4.  3.  2.  2.  1.  2.  3.  4.  5. nan nan]\n [ 5.  4.  3.  3.  2.  1.  2.  3.  4.  5. nan]\n [nan  5.  4.  4.  3.  2. nan nan nan nan nan]]\ni: 6 j: 6 || valor: 2.0\n[[ 0.  1.  2.  3.  4.  5. nan nan nan nan nan]\n [ 1.  0.  1.  2.  3.  4.  5. nan nan nan nan]\n [ 2.  1.  1.  1.  2.  3.  4.  5. nan nan nan]\n [ 3.  2.  1.  1.  2.  2.  3.  4.  5. nan nan]\n [ 4.  3.  2.  2.  1.  2.  3.  4.  5. nan nan]\n [ 5.  4.  3.  3.  2.  1.  2.  3.  4.  5. nan]\n [nan  5.  4.  4.  3.  2.  2. nan nan nan nan]]\ni: 6 j: 7 || valor: 3.0\n[[ 0.  1.  2.  3.  4.  5. nan nan nan nan nan]\n [ 1.  0.  1.  2.  3.  4.  5. nan nan nan nan]\n [ 2.  1.  1.  1.  2.  3.  4.  5. nan nan nan]\n [ 3.  2.  1.  1.  2.  2.  3.  4.  5. nan nan]\n [ 4.  3.  2.  2.  1.  2.  3.  4.  5. nan nan]\n [ 5.  4.  3.  3.  2.  1.  2.  3.  4.  5. nan]\n [nan  5.  4.  4.  3.  2.  2.  3. nan nan nan]]\ni: 6 j: 8 || valor: 4.0\n[[ 0.  1.  2.  3.  4.  5. nan nan nan nan nan]\n [ 1.  0.  1.  2.  3.  4.  5. nan nan nan nan]\n [ 2.  1.  1.  1.  2.  3.  4.  5. nan nan nan]\n [ 3.  2.  1.  1.  2.  2.  3.  4.  5. nan nan]\n [ 4.  3.  2.  2.  1.  2.  3.  4.  5. nan nan]\n [ 5.  4.  3.  3.  2.  1.  2.  3.  4.  5. nan]\n [nan  5.  4.  4.  3.  2.  2.  3.  4. nan nan]]\ni: 6 j: 9 || valor: 5.0\n[[ 0.  1.  2.  3.  4.  5. nan nan nan nan nan]\n [ 1.  0.  1.  2.  3.  4.  5. nan nan nan nan]\n [ 2.  1.  1.  1.  2.  3.  4.  5. nan nan nan]\n [ 3.  2.  1.  1.  2.  2.  3.  4.  5. nan nan]\n [ 4.  3.  2.  2.  1.  2.  3.  4.  5. nan nan]\n [ 5.  4.  3.  3.  2.  1.  2.  3.  4.  5. nan]\n [nan  5.  4.  4.  3.  2.  2.  3.  4.  5. nan]]\ni: 6 j: 10 || valor: 5.0\n[[ 0.  1.  2.  3.  4.  5. nan nan nan nan nan]\n [ 1.  0.  1.  2.  3.  4.  5. nan nan nan nan]\n [ 2.  1.  1.  1.  2.  3.  4.  5. nan nan nan]\n [ 3.  2.  1.  1.  2.  2.  3.  4.  5. nan nan]\n [ 4.  3.  2.  2.  1.  2.  3.  4.  5. nan nan]\n [ 5.  4.  3.  3.  2.  1.  2.  3.  4.  5. nan]\n [nan  5.  4.  4.  3.  2.  2.  3.  4.  5.  5.]]\nccamal cacmapasdl 5.0\n"
     ]
    }
   ],
   "source": [
    "for term,ref in [(\"ccamal\", \"cacmapasdl\")]:\n",
    "    print(term,ref,dp_restricted_damerau_backwards_threshold(term,ref,6))"
   ]
  },
  {
   "cell_type": "code",
   "execution_count": 79,
   "metadata": {},
   "outputs": [
    {
     "output_type": "execute_result",
     "data": {
      "text/plain": [
       "array([[0., 1., 2., 3., 4., 5.],\n",
       "       [1., 0., 0., 0., 0., 0.],\n",
       "       [2., 0., 0., 0., 0., 0.],\n",
       "       [3., 0., 0., 0., 0., 0.],\n",
       "       [4., 0., 0., 0., 0., 0.]])"
      ]
     },
     "metadata": {},
     "execution_count": 79
    }
   ],
   "source": [
    "x=\"hola\"\n",
    "y=\"chola\"\n",
    "M = np.zeros((len(x) + 1, len(y) + 1))\n",
    "\n",
    "# COMENTARIO DE DAVID: \n",
    "for i in range(1, len(x) + 1):\n",
    "    M[i, 0] = i\n",
    "for j in range(1, len(y) + 1):\n",
    "    M[0, j] = j\n",
    "M"
   ]
  },
  {
   "cell_type": "code",
   "execution_count": 84,
   "metadata": {},
   "outputs": [
    {
     "output_type": "execute_result",
     "data": {
      "text/plain": [
       "array([[0, 1, 1, 1, 1, 1],\n",
       "       [1, 0, 1, 1, 1, 1],\n",
       "       [1, 1, 1, 0, 1, 1],\n",
       "       [1, 1, 1, 1, 0, 1]])"
      ]
     },
     "metadata": {},
     "execution_count": 84
    }
   ],
   "source": [
    "M = np.zeros((len(x) + 1, len(y) + 1))\n",
    "M[0] = np.arange(len(y)+1)\n",
    "M[:][:,0] = np.arange(len(x)+1)\n",
    "M\n",
    "matriz(\"hola\", \"hoilas\")"
   ]
  },
  {
   "cell_type": "code",
   "execution_count": null,
   "metadata": {},
   "outputs": [],
   "source": []
  },
  {
   "cell_type": "code",
   "execution_count": 1,
   "metadata": {},
   "outputs": [],
   "source": [
    "from tarea2.distances_with_threshold import dp_intermediate_damerau_backwards_with_threshold"
   ]
  },
  {
   "cell_type": "code",
   "execution_count": 5,
   "metadata": {},
   "outputs": [
    {
     "output_type": "stream",
     "name": "stdout",
     "text": [
      "[[ 0.  1.  2.  3.  4.]\n [ 1. inf inf inf inf]\n [ 2. inf inf inf inf]\n [ 3. inf inf inf inf]\n [ 4. inf inf inf inf]]\n[[ 0.  1.  2.  3.  4.]\n [ 1.  0.  1. inf inf]\n [ 2. inf inf inf inf]\n [ 3. inf inf inf inf]\n [ 4. inf inf inf inf]]\n[[ 0.  1.  2.  3.  4.]\n [ 1.  0.  1. inf inf]\n [ 2.  1.  0.  1. inf]\n [ 3. inf inf inf inf]\n [ 4. inf inf inf inf]]\n[[ 0.  1.  2.  3.  4.]\n [ 1.  0.  1. inf inf]\n [ 2.  1.  0.  1. inf]\n [ 3.  2.  1.  0.  1.]\n [ 4. inf inf inf inf]]\n[[ 0.  1.  2.  3.  4.]\n [ 1.  0.  1. inf inf]\n [ 2.  1.  0.  1. inf]\n [ 3.  2.  1.  0.  1.]\n [ 4. inf  2.  1.  1.]]\n"
     ]
    },
    {
     "output_type": "execute_result",
     "data": {
      "text/plain": [
       "1.0"
      ]
     },
     "metadata": {},
     "execution_count": 5
    }
   ],
   "source": [
    "dp_intermediate_damerau_backwards_with_threshold('hola','holo',2)"
   ]
  },
  {
   "cell_type": "code",
   "execution_count": 1,
   "metadata": {},
   "outputs": [
    {
     "output_type": "stream",
     "name": "stdout",
     "text": [
      "[[ 0.  1.  2.  3.  4.  5.]\n [ 1. inf inf inf inf inf]\n [ 2. inf inf inf inf inf]\n [ 3. inf inf inf inf inf]\n [ 4. inf inf inf inf inf]]\n[[ 0.  1.  2.  3.  4.  5.]\n [ 1.  1. inf inf inf inf]\n [ 2. inf inf inf inf inf]\n [ 3. inf inf inf inf inf]\n [ 4. inf inf inf inf inf]]\n[[ 0.  1.  2.  3.  4.  5.]\n [ 1.  1.  2. inf inf inf]\n [ 2. inf inf inf inf inf]\n [ 3. inf inf inf inf inf]\n [ 4. inf inf inf inf inf]]\n[[ 0.  1.  2.  3.  4.  5.]\n [ 1.  1.  2.  3. inf inf]\n [ 2. inf inf inf inf inf]\n [ 3. inf inf inf inf inf]\n [ 4. inf inf inf inf inf]]\n[[ 0.  1.  2.  3.  4.  5.]\n [ 1.  1.  2.  3. inf inf]\n [ 2. inf inf inf inf inf]\n [ 3. inf inf inf inf inf]\n [ 4. inf inf inf inf inf]]\n[[ 0.  1.  2.  3.  4.  5.]\n [ 1.  1.  2.  3. inf inf]\n [ 2.  2. inf inf inf inf]\n [ 3. inf inf inf inf inf]\n [ 4. inf inf inf inf inf]]\n[[ 0.  1.  2.  3.  4.  5.]\n [ 1.  1.  2.  3. inf inf]\n [ 2.  2.  2. inf inf inf]\n [ 3. inf inf inf inf inf]\n [ 4. inf inf inf inf inf]]\n[[ 0.  1.  2.  3.  4.  5.]\n [ 1.  1.  2.  3. inf inf]\n [ 2.  2.  2.  3. inf inf]\n [ 3. inf inf inf inf inf]\n [ 4. inf inf inf inf inf]]\n[[ 0.  1.  2.  3.  4.  5.]\n [ 1.  1.  2.  3. inf inf]\n [ 2.  2.  2.  3.  4. inf]\n [ 3. inf inf inf inf inf]\n [ 4. inf inf inf inf inf]]\n"
     ]
    }
   ],
   "source": [
    "from tarea2.distances_with_threshold import dp_levenshtein_backwards_threshold\n",
    "dp_levenshtein_backwards_threshold('aaaa', 'bbbbb', 3)"
   ]
  },
  {
   "cell_type": "code",
   "execution_count": null,
   "metadata": {},
   "outputs": [],
   "source": []
  }
 ]
}