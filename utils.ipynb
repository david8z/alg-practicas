{
 "metadata": {
  "language_info": {
   "codemirror_mode": {
    "name": "ipython",
    "version": 3
   },
   "file_extension": ".py",
   "mimetype": "text/x-python",
   "name": "python",
   "nbconvert_exporter": "python",
   "pygments_lexer": "ipython3",
   "version": "3.8.2-final"
  },
  "orig_nbformat": 2,
  "kernelspec": {
   "name": "Python 3.8.2 64-bit",
   "display_name": "Python 3.8.2 64-bit",
   "metadata": {
    "interpreter": {
     "hash": "31f2aee4e71d21fbe5cf8b01ff0e069b9275f58929596ceb00d14d90e3e16cd6"
    }
   }
  }
 },
 "nbformat": 4,
 "nbformat_minor": 2,
 "cells": [
  {
   "cell_type": "code",
   "execution_count": 14,
   "metadata": {},
   "outputs": [],
   "source": [
    "def distance(str1, str2):\n",
    "  d=dict()\n",
    "  for i in range(len(str1)+1):\n",
    "     d[i]=dict()\n",
    "     d[i][0]=i\n",
    "  for i in range(len(str2)+1):\n",
    "     d[0][i] = i\n",
    "  for i in range(1, len(str1)+1):\n",
    "     for j in range(1, len(str2)+1):\n",
    "        d[i][j] = min(d[i][j-1]+1, d[i-1][j]+1, d[i-1][j-1]+(not str1[i-1] == str2[j-1]))\n",
    "  print(d)\n",
    "  return d[len(str1)][len(str2)]"
   ]
  },
  {
   "cell_type": "code",
   "execution_count": 7,
   "metadata": {},
   "outputs": [
    {
     "output_type": "stream",
     "name": "stdout",
     "text": [
      "{0: {0: 0, 1: 1, 2: 2, 3: 3, 4: 4}, 1: {0: 1, 1: 1, 2: 2, 3: 3, 4: 4}, 2: {0: 2, 1: 2, 2: 2, 3: 3, 4: 4}, 3: {0: 3, 1: 3, 2: 3, 3: 3, 4: 4}, 4: {0: 4, 1: 4, 2: 3, 3: 3, 4: 4}}\n"
     ]
    },
    {
     "output_type": "execute_result",
     "data": {
      "text/plain": [
       "4"
      ]
     },
     "metadata": {},
     "execution_count": 7
    }
   ],
   "source": [
    "distance('hola', 'saas')"
   ]
  },
  {
   "cell_type": "code",
   "execution_count": 38,
   "metadata": {},
   "outputs": [],
   "source": [
    "import numpy as np \n",
    "def matriz(term, ref):\n",
    "   \"\"\"\n",
    "   Metodo dado en el boletin\n",
    "   \"\"\"\n",
    "   vref = np.array(list(ref))\n",
    "   return np.vstack([vref != letter for letter in term]) + 0\n",
    "\n",
    "\n",
    "def levenshtein(term, ref):\n",
    "   \"\"\"\n",
    "   Calcula la distancia de Levenshtein entre las cadenas term y ref\n",
    "   \"\"\"\n",
    "   mat = matriz(term, ref)\n",
    "   res = np.zeros(shape=(len(term)+1,len(ref)+1))\n",
    "   for i in range(0,len(term)+1):\n",
    "      for j in range(0,len(ref)+1):\n",
    "            if i==0 or j==0:\n",
    "               res[i,j] = res[i,j] + i + j\n",
    "            else:\n",
    "               res[i,j] =min(\n",
    "                  mat[i-1,j-1] + res[i-1,j-1],\n",
    "                  1 + res[i-1,j],\n",
    "                  1 + res[i,j-1]\n",
    "               )\n",
    "               \n",
    "   return res[len(term),len(ref)]"
   ]
  },
  {
   "cell_type": "code",
   "execution_count": 70,
   "metadata": {},
   "outputs": [
    {
     "output_type": "stream",
     "name": "stdout",
     "text": [
      "(6, 7)\n(6, 7)\ncampos ejemplo 4.0\n[[1 1 1 1 1 1 1]\n [1 1 1 1 1 1 1]\n [1 1 1 0 1 1 1]\n [1 1 1 1 0 1 1]\n [1 1 1 1 1 1 0]\n [1 1 1 1 1 1 1]]\n(12, 13)\n(12, 13)\nreconocibles irreconocible 3.0\n[[1 0 0 1 1 1 1 1 1 1 1 1 1]\n [1 1 1 0 1 1 1 1 1 1 1 1 0]\n [1 1 1 1 0 1 1 1 0 1 1 1 1]\n [1 1 1 1 1 0 1 0 1 1 1 1 1]\n [1 1 1 1 1 1 0 1 1 1 1 1 1]\n [1 1 1 1 1 0 1 0 1 1 1 1 1]\n [1 1 1 1 0 1 1 1 0 1 1 1 1]\n [0 1 1 1 1 1 1 1 1 0 1 1 1]\n [1 1 1 1 1 1 1 1 1 1 0 1 1]\n [1 1 1 1 1 1 1 1 1 1 1 0 1]\n [1 1 1 0 1 1 1 1 1 1 1 1 0]\n [1 1 1 1 1 1 1 1 1 1 1 1 1]]\n(4, 5)\n(4, 5)\nhola holas 1.0\n[[0 1 1 1 1]\n [1 0 1 1 1]\n [1 1 0 1 1]\n [1 1 1 0 1]]\n"
     ]
    }
   ],
   "source": [
    "for term,ref in [(\"campos\",\"ejemplo\"), (\"reconocibles\",\"irreconocible\"), (\"hola\", \"holas\")]:\n",
    "    print(term,ref,damerau_levenstein(term,ref))\n",
    "    print(matriz(term,ref))"
   ]
  },
  {
   "cell_type": "code",
   "execution_count": 68,
   "metadata": {},
   "outputs": [],
   "source": [
    "def damerau_levenstein(term, ref):\n",
    "   \"\"\"\n",
    "   Calcula la distancia de Damerau Levenshtein entre las cadenas term y ref\n",
    "   \"\"\"\n",
    "   # Simula el infinito\n",
    "   INF = len(term) + len(ref)\n",
    "\n",
    "   mat = matriz(term, ref)\n",
    "   res = np.zeros(shape=(len(term)+1,len(ref)+1))\n",
    "\n",
    "   for i in range(0,len(term)+1):\n",
    "      for j in range(0,len(ref)+1):\n",
    "            if i==0 or j==0:\n",
    "               res[i,j] = res[i,j] + i + j\n",
    "            elif i == 1 or j == 1:\n",
    "               res[i,j] =min(\n",
    "                  mat[i-1,j-1] + res[i-1,j-1],\n",
    "                  1 + res[i-1,j],\n",
    "                  1 + res[i,j-1],\n",
    "               )\n",
    "            else:\n",
    "               res[i,j] =min(\n",
    "                  mat[i-1,j-1] + res[i-1,j-1],\n",
    "                  1 + res[i-1,j],\n",
    "                  1 + res[i,j-1],\n",
    "                  1 + res[i-2,j-2] + (mat[i-2,j-1] + mat[i-1,j-2]) * INF\n",
    "               )\n",
    "   return res[len(term),len(ref)]"
   ]
  },
  {
   "cell_type": "code",
   "execution_count": null,
   "metadata": {},
   "outputs": [],
   "source": []
  }
 ]
}